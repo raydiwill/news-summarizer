{
 "cells": [
  {
   "cell_type": "code",
   "execution_count": null,
   "metadata": {},
   "outputs": [],
   "source": [
    "from newspaper import Config, Article, Source\n",
    "\n",
    "# Set the URL of the website you want to scrape\n",
    "url = \"https://www.france24.com/en/\"\n",
    "\n",
    "# Create a configuration object\n",
    "config = Config()\n",
    "\n",
    "# Set the language for article extraction\n",
    "config.language = \"en\"\n",
    "\n",
    "# Create a source object with the URL and configuration\n",
    "source = Source(url, config)\n",
    "\n",
    "# Download and parse the website\n",
    "source.build()\n",
    "\n",
    "# Get the articles from the website\n",
    "articles = source.articles\n",
    "\n",
    "# Iterate over the articles and extract the news content\n",
    "for article in articles:\n",
    "    # Download and parse the article\n",
    "    article.download()\n",
    "    article.parse()\n",
    "\n",
    "    # Print the article title and text\n",
    "    print(\"Title:\", article.title)\n",
    "    print(\"Text:\", article.text)\n",
    "    print(\"\")\n",
    "\n",
    "# Clear the articles to free up memory\n",
    "source.clear_articles()"
   ]
  }
 ],
 "metadata": {
  "language_info": {
   "name": "python"
  }
 },
 "nbformat": 4,
 "nbformat_minor": 2
}
